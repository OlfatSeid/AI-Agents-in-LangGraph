{
  "cells": [
    {
      "cell_type": "markdown",
      "id": "21fa2e13-567d-4509-9023-c99fb230f31f",
      "metadata": {
        "id": "21fa2e13-567d-4509-9023-c99fb230f31f"
      },
      "source": [
        "## LangGraph Components"
      ]
    },
    {
      "cell_type": "code",
      "execution_count": 1,
      "id": "fb9e5d13",
      "metadata": {
        "id": "fb9e5d13"
      },
      "outputs": [],
      "source": [
        "!pip install -qU langchain_community langgraph langchain_groq tavily-python"
      ]
    },
    {
      "cell_type": "code",
      "source": [
        "%%capture\n",
        "!apt-get update\n",
        "!apt-get install -y graphviz libgraphviz-dev pkg-config\n",
        "!pip install pygraphviz"
      ],
      "metadata": {
        "id": "N8QHGzYKMPpI"
      },
      "id": "N8QHGzYKMPpI",
      "execution_count": 2,
      "outputs": []
    },
    {
      "cell_type": "code",
      "execution_count": 3,
      "id": "d0168aee-bce9-4d60-b827-f86a88187e31",
      "metadata": {
        "height": 132,
        "id": "d0168aee-bce9-4d60-b827-f86a88187e31"
      },
      "outputs": [],
      "source": [
        "from langgraph.graph import StateGraph, END\n",
        "from typing import TypedDict, Annotated\n",
        "import operator\n",
        "\n",
        "from langchain_core.messages import AnyMessage, SystemMessage, HumanMessage, ToolMessage\n",
        "from langchain_groq import ChatGroq\n",
        "from langchain_community.tools.tavily_search import TavilySearchResults\n",
        "\n",
        "from IPython.display import Image\n",
        "import os\n",
        "from google.colab import userdata"
      ]
    },
    {
      "cell_type": "code",
      "source": [
        "tavily_api_key=userdata.get('tavily_api_key')"
      ],
      "metadata": {
        "collapsed": true,
        "id": "TQbwpBn1VttX"
      },
      "id": "TQbwpBn1VttX",
      "execution_count": 4,
      "outputs": []
    },
    {
      "cell_type": "markdown",
      "source": [],
      "metadata": {
        "id": "NN9XjOibZRA4"
      },
      "id": "NN9XjOibZRA4"
    },
    {
      "cell_type": "code",
      "source": [
        "os.environ['TAVILY_API_KEY'] = tavily_api_key"
      ],
      "metadata": {
        "id": "LBByGXc2DupX"
      },
      "id": "LBByGXc2DupX",
      "execution_count": 5,
      "outputs": []
    },
    {
      "cell_type": "code",
      "execution_count": 6,
      "id": "2589c5b6-6cc2-4594-9a17-dccdcf676054",
      "metadata": {
        "height": 81,
        "colab": {
          "base_uri": "https://localhost:8080/"
        },
        "id": "2589c5b6-6cc2-4594-9a17-dccdcf676054",
        "outputId": "24c681d0-0696-4c80-b643-74c0bcc8292c"
      },
      "outputs": [
        {
          "output_type": "stream",
          "name": "stdout",
          "text": [
            "<class 'langchain_community.tools.tavily_search.tool.TavilySearchResults'>\n",
            "tavily_search_results_json\n"
          ]
        }
      ],
      "source": [
        "tool = TavilySearchResults(max_results=3) #increased number of results\n",
        "print(type(tool))\n",
        "print(tool.name)"
      ]
    },
    {
      "cell_type": "code",
      "execution_count": 7,
      "id": "a2ba84ec-c172-4de7-ac55-e3158a531b23",
      "metadata": {
        "height": 64,
        "id": "a2ba84ec-c172-4de7-ac55-e3158a531b23"
      },
      "outputs": [],
      "source": [
        "class AgentState(TypedDict):\n",
        "    messages: Annotated[list[AnyMessage], operator.add]"
      ]
    },
    {
      "cell_type": "markdown",
      "id": "74c7ba73-e603-453b-b06f-5db92c567b19",
      "metadata": {
        "id": "74c7ba73-e603-453b-b06f-5db92c567b19"
      },
      "source": [
        "> Note: in `take_action` below, some logic was added to cover the case that the LLM returned a non-existent tool name. Even with function calling, LLMs can still occasionally hallucinate. Note that all that is done is instructing the LLM to try again! An advantage of an agentic organization."
      ]
    },
    {
      "cell_type": "code",
      "execution_count": 8,
      "id": "876d5092-b8ef-4e38-b4d7-0e80c609bf7a",
      "metadata": {
        "height": 744,
        "id": "876d5092-b8ef-4e38-b4d7-0e80c609bf7a"
      },
      "outputs": [],
      "source": [
        "class Agent:\n",
        "\n",
        "    def __init__(self, llm, tools, system=\"\"):\n",
        "        self.system = system\n",
        "        graph = StateGraph(AgentState)\n",
        "        graph.add_node(\"LLM\", self.call_openai)\n",
        "        graph.add_node(\"Action\", self.take_action)\n",
        "        graph.add_conditional_edges(\n",
        "            \"LLM\",\n",
        "            self.exists_action,\n",
        "            {True: \"Action\", False: END}\n",
        "        )\n",
        "        graph.add_edge(\"Action\", \"LLM\")\n",
        "        graph.set_entry_point(\"LLM\")\n",
        "        self.graph = graph.compile()\n",
        "        self.tools = {t.name: t for t in tools}\n",
        "        self.llm = llm.bind_tools(tools)\n",
        "\n",
        "    def exists_action(self, state: AgentState):\n",
        "        result = state['messages'][-1]\n",
        "        return len(result.tool_calls) > 0\n",
        "\n",
        "    def call_openai(self, state: AgentState):\n",
        "        messages = state['messages']\n",
        "        if self.system:\n",
        "            messages = [SystemMessage(content=self.system)] + messages\n",
        "        message = self.llm.invoke(messages)\n",
        "        return {'messages': [message]}\n",
        "\n",
        "    def take_action(self, state: AgentState):\n",
        "        tool_calls = state['messages'][-1].tool_calls\n",
        "        results = []\n",
        "        for t in tool_calls:\n",
        "            print(f\"Calling: {t}\")\n",
        "            if not t['name'] in self.tools:      # check for bad tool name from LLM\n",
        "                print(\"\\n ....bad tool name....\")\n",
        "                result = \"bad tool name, retry\"  # instruct LLM to retry if bad\n",
        "            else:\n",
        "                result = self.tools[t['name']].invoke(t['args'])\n",
        "            results.append(ToolMessage(tool_call_id=t['id'], name=t['name'], content=str(result)))\n",
        "        print(\"Back to the model!\")\n",
        "        return {'messages': results}"
      ]
    },
    {
      "cell_type": "code",
      "source": [
        "groq_api_key=userdata.get('groq_api_key')"
      ],
      "metadata": {
        "id": "xMftSRmKGJii"
      },
      "id": "xMftSRmKGJii",
      "execution_count": 9,
      "outputs": []
    },
    {
      "cell_type": "code",
      "source": [
        "llm=ChatGroq(groq_api_key=groq_api_key,model_name=\"Gemma2-9b-It\")\n",
        "llm"
      ],
      "metadata": {
        "colab": {
          "base_uri": "https://localhost:8080/"
        },
        "id": "oQjk7bMrGnMB",
        "outputId": "3009ca0c-7950-4eec-9c2d-61175d333fad"
      },
      "id": "oQjk7bMrGnMB",
      "execution_count": 10,
      "outputs": [
        {
          "output_type": "execute_result",
          "data": {
            "text/plain": [
              "ChatGroq(client=<groq.resources.chat.completions.Completions object at 0x7f9c537741d0>, async_client=<groq.resources.chat.completions.AsyncCompletions object at 0x7f9c531527d0>, model_name='Gemma2-9b-It', model_kwargs={}, groq_api_key=SecretStr('**********'))"
            ]
          },
          "metadata": {},
          "execution_count": 10
        }
      ]
    },
    {
      "cell_type": "code",
      "execution_count": 11,
      "id": "10084a02-2928-4945-9f7c-ad3f5b33caf7",
      "metadata": {
        "height": 166,
        "id": "10084a02-2928-4945-9f7c-ad3f5b33caf7"
      },
      "outputs": [],
      "source": [
        "prompt = \"\"\"You are a smart research assistant. Use the search engine to look up information. \\\n",
        "You are allowed to make multiple calls (either together or in sequence). \\\n",
        "Only look up information when you are sure of what you want. \\\n",
        "If you need to look up some information before asking a follow up question, you are allowed to do that!\n",
        "\"\"\"\n",
        "\n",
        "abot = Agent(llm, [tool], system=prompt)"
      ]
    },
    {
      "cell_type": "code",
      "execution_count": 12,
      "id": "a3d6f5f4-2392-41b9-ab96-7919840baa3e",
      "metadata": {
        "height": 64,
        "colab": {
          "base_uri": "https://localhost:8080/",
          "height": 382
        },
        "id": "a3d6f5f4-2392-41b9-ab96-7919840baa3e",
        "outputId": "14d4b1f4-043f-4b17-dc54-2089858a5cb6"
      },
      "outputs": [
        {
          "output_type": "execute_result",
          "data": {
            "image/png": "[encoded data removed]",
            "text/plain": [
              "<IPython.core.display.Image object>"
            ]
          },
          "metadata": {},
          "execution_count": 12
        }
      ],
      "source": [
        "\n",
        "Image(abot.graph.get_graph().draw_png())"
      ]
    },
    {
      "cell_type": "code",
      "execution_count": 13,
      "id": "83588e70-254f-4f83-a510-c8ae81e729b0",
      "metadata": {
        "height": 64,
        "colab": {
          "base_uri": "https://localhost:8080/"
        },
        "id": "83588e70-254f-4f83-a510-c8ae81e729b0",
        "outputId": "d393a909-ace0-4378-9e40-b2204a33ad9c"
      },
      "outputs": [
        {
          "output_type": "stream",
          "name": "stdout",
          "text": [
            "Calling: {'name': 'tavily_search_results_json', 'args': {'query': 'weather in sf'}, 'id': 'call_vyx2', 'type': 'tool_call'}\n",
            "Back to the model!\n",
            "Calling: {'name': 'tavily_search_results_json', 'args': {'query': 'current weather in san francisco '}, 'id': 'call_gskv', 'type': 'tool_call'}\n",
            "Back to the model!\n"
          ]
        }
      ],
      "source": [
        "messages = [HumanMessage(content=\"What is the weather in sf?\")]\n",
        "result = abot.graph.invoke({\"messages\": messages})"
      ]
    },
    {
      "cell_type": "code",
      "execution_count": 14,
      "id": "89a06a8c-fcd4-4ca6-98f0-36c5809813e6",
      "metadata": {
        "height": 30,
        "scrolled": true,
        "colab": {
          "base_uri": "https://localhost:8080/"
        },
        "collapsed": true,
        "id": "89a06a8c-fcd4-4ca6-98f0-36c5809813e6",
        "outputId": "40b531b3-3c6b-42f5-af6b-bbbb067af329"
      },
      "outputs": [
        {
          "output_type": "execute_result",
          "data": {
            "text/plain": [
              "{'messages': [HumanMessage(content='What is the weather in sf?', additional_kwargs={}, response_metadata={}),\n",
              "  AIMessage(content='', additional_kwargs={'tool_calls': [{'id': 'call_vyx2', 'function': {'arguments': '{\"query\":\"weather in sf\"}', 'name': 'tavily_search_results_json'}, 'type': 'function'}]}, response_metadata={'token_usage': {'completion_tokens': 89, 'prompt_tokens': 1057, 'total_tokens': 1146, 'completion_time': 0.161818182, 'prompt_time': 0.042440212, 'queue_time': 0.022372075999999998, 'total_time': 0.204258394}, 'model_name': 'Gemma2-9b-It', 'system_fingerprint': 'fp_10c08bf97d', 'finish_reason': 'tool_calls', 'logprobs': None}, id='run-4a448ea7-171c-4439-92d2-81a7f057fbb1-0', tool_calls=[{'name': 'tavily_search_results_json', 'args': {'query': 'weather in sf'}, 'id': 'call_vyx2', 'type': 'tool_call'}], usage_metadata={'input_tokens': 1057, 'output_tokens': 89, 'total_tokens': 1146}),\n",
              "  ToolMessage(content='[{\\'url\\': \\'https://www.weatherapi.com/\\', \\'content\\': \"{\\'location\\': {\\'name\\': \\'San Francisco\\', \\'region\\': \\'California\\', \\'country\\': \\'United States of America\\', \\'lat\\': 37.775, \\'lon\\': -122.4183, \\'tz_id\\': \\'America/Los_Angeles\\', \\'localtime_epoch\\': 1737578379, \\'localtime\\': \\'2025-01-22 12:39\\'}, \\'current\\': {\\'last_updated_epoch\\': 1737577800, \\'last_updated\\': \\'2025-01-22 12:30\\', \\'temp_c\\': 11.7, \\'temp_f\\': 53.1, \\'is_day\\': 1, \\'condition\\': {\\'text\\': \\'Sunny\\', \\'icon\\': \\'//cdn.weatherapi.com/weather/64x64/day/113.png\\', \\'code\\': 1000}, \\'wind_mph\\': 4.7, \\'wind_kph\\': 7.6, \\'wind_degree\\': 46, \\'wind_dir\\': \\'NE\\', \\'pressure_mb\\': 1029.0, \\'pressure_in\\': 30.38, \\'precip_mm\\': 0.0, \\'precip_in\\': 0.0, \\'humidity\\': 80, \\'cloud\\': 0, \\'feelslike_c\\': 11.1, \\'feelslike_f\\': 52.0, \\'windchill_c\\': 12.5, \\'windchill_f\\': 54.5, \\'heatindex_c\\': 12.5, \\'heatindex_f\\': 54.6, \\'dewpoint_c\\': 9.0, \\'dewpoint_f\\': 48.2, \\'vis_km\\': 16.0, \\'vis_miles\\': 9.0, \\'uv\\': 2.5, \\'gust_mph\\': 6.6, \\'gust_kph\\': 10.7}}\"}, {\\'url\\': \\'https://www.yahoo.com/news/january-22-2025-san-francisco-135152203.html\\', \\'content\\': \\'January 22, 2025 San Francisco Bay Area weather forecast Search query Search the web News Finance Sports Manage your account Help Add or switch accounts Sign out Search the web Advertisement Advertisement Advertisement Close this content Top Stories Photos: Snow in the South Meta auto-follow claims KRON San Francisco January 22, 2025 San Francisco Bay Area weather forecast KRON San Francisco Wed, January 22, 2025 at 1:51 PM UTC KRON4 Meteorologist John Shrable has a check on the weather. https://www.kron4.com Solve the daily Crossword 32,252 people played the daily Crossword recently. Can you solve it faster than others?32,252 people played the daily Crossword recently. Can you solve it faster than others? Crossword Play on Yahoo Yahoo! Follow us on © 2025 Yahoo.\\'}, {\\'url\\': \\'https://world-weather.info/forecast/usa/san_francisco/january-2025/\\', \\'content\\': \"Weather in San Francisco in January 2025 (California) - Detailed Weather Forecast for a Month Weather World Weather in San Francisco Weather in San Francisco in January 2025 San Francisco Weather Forecast for January 2025, is based on previous years\\' statistical data. +55°+46° +54°+45° +57°+48° +55°+48° +55°+48° +55°+46° +57°+50° +59°+50° +57°+50° +59°+50° +55°+48° +57°+48° +57°+48° +57°+50° +55°+46° +55°+48° +57°+48° +57°+48° +57°+48° +55°+48° +57°+48° +55°+48° +55°+48° +55°+46° +57°+48° +57°+48° +59°+48° +59°+48° +59°+48° +59°+48° +61°+50° Extended weather forecast in San Francisco HourlyWeek10-Day14-Day30-DayYear Weather in Washington, D.C.+30° Sacramento+45° Pleasanton+50° Redwood City+54° San Leandro+54° San Mateo+54° San Rafael+50° San Ramon+48° South San Francisco+55° Vallejo+50° Palo Alto+52° Pacifica+59° Berkeley+48° Castro Valley+54° Concord+48° Daly City+55° Leona Heights+54° Centennial+54° world\\'s temperature today day day Temperature units\"}]', name='tavily_search_results_json', tool_call_id='call_vyx2'),\n",
              "  AIMessage(content='', additional_kwargs={'tool_calls': [{'id': 'call_gskv', 'function': {'arguments': '{\"query\":\"current weather in san francisco \"}', 'name': 'tavily_search_results_json'}, 'type': 'function'}]}, response_metadata={'token_usage': {'completion_tokens': 54, 'prompt_tokens': 2329, 'total_tokens': 2383, 'completion_time': 0.098181818, 'prompt_time': 0.075137949, 'queue_time': 0.025017231, 'total_time': 0.173319767}, 'model_name': 'Gemma2-9b-It', 'system_fingerprint': 'fp_10c08bf97d', 'finish_reason': 'tool_calls', 'logprobs': None}, id='run-bcd4f4cc-6df5-45c1-8358-801bcff0182a-0', tool_calls=[{'name': 'tavily_search_results_json', 'args': {'query': 'current weather in san francisco '}, 'id': 'call_gskv', 'type': 'tool_call'}], usage_metadata={'input_tokens': 2329, 'output_tokens': 54, 'total_tokens': 2383}),\n",
              "  ToolMessage(content='[{\\'url\\': \\'https://www.weatherapi.com/\\', \\'content\\': \"{\\'location\\': {\\'name\\': \\'San Francisco\\', \\'region\\': \\'California\\', \\'country\\': \\'United States of America\\', \\'lat\\': 37.775, \\'lon\\': -122.4183, \\'tz_id\\': \\'America/Los_Angeles\\', \\'localtime_epoch\\': 1737578379, \\'localtime\\': \\'2025-01-22 12:39\\'}, \\'current\\': {\\'last_updated_epoch\\': 1737577800, \\'last_updated\\': \\'2025-01-22 12:30\\', \\'temp_c\\': 11.7, \\'temp_f\\': 53.1, \\'is_day\\': 1, \\'condition\\': {\\'text\\': \\'Sunny\\', \\'icon\\': \\'//cdn.weatherapi.com/weather/64x64/day/113.png\\', \\'code\\': 1000}, \\'wind_mph\\': 4.7, \\'wind_kph\\': 7.6, \\'wind_degree\\': 46, \\'wind_dir\\': \\'NE\\', \\'pressure_mb\\': 1029.0, \\'pressure_in\\': 30.38, \\'precip_mm\\': 0.0, \\'precip_in\\': 0.0, \\'humidity\\': 80, \\'cloud\\': 0, \\'feelslike_c\\': 11.1, \\'feelslike_f\\': 52.0, \\'windchill_c\\': 12.5, \\'windchill_f\\': 54.5, \\'heatindex_c\\': 12.5, \\'heatindex_f\\': 54.6, \\'dewpoint_c\\': 9.0, \\'dewpoint_f\\': 48.2, \\'vis_km\\': 16.0, \\'vis_miles\\': 9.0, \\'uv\\': 2.5, \\'gust_mph\\': 6.6, \\'gust_kph\\': 10.7}}\"}, {\\'url\\': \\'https://weathershogun.com/weather/usa/ca/san-francisco/480/january\\', \\'content\\': \\'January 2025 Weather in San Francisco, CA San Francisco, CA Today Hourly 7 days 30 days January January 2025 Weather | San Francisco, California Today 1/3 Day 57° Night 45° 100Sat 1/4 Day 57° Night 45° 3Sun 1/5 Day 59° Night 46° 3Mon 1/6 Day 57° Night 50° 1Tue 1/7 Day 64° Night 50° 0Wed 1/8 Day 64° Night 48° 0Thu 1/9 Day 63° Night 50° 0Fri 1/10 Day 63° Night 48° 0Sat 1/11 Day 63° Night 50° 0Sun 1/12 Day 61° Night 46° 0Mon 1/13 Day 63° Night 48° 0Tue 1/14 Day 59° Night 48° 0Wed 1/15 Day 57° Night 46° 0Thu 1/16 Day 59° Night 46° 25Fri 1/17 Day 61° Night 50° 25Sat 1/18 Day 57° Night 50° 25Sun 1/19 Day 57° Night 48° 25Mon 1/20 Day 55° Night 45° 25Tue 1/21 Day 57° Night 46° 25Wed 1/22 Day 59° Night 45° 25Thu 1/23 Day 61° Night 46° 25Fri 1/24 Day 61° Night 48° 25Sat 1/25 Day 61° Night 50° 25Sun 1/26 Day 57° Night 48° 25Mon 1/27 Day 61° Night 50° 25Tue 1/28 Day 63° Night 50° 25Wed 1/29 Day 61° Night 50° 25Thu 1/30 Day 63° Night 50° 25Fri 1/31 Day 63° Night 50° 25 Today 7 days 30 days\\'}, {\\'url\\': \\'https://world-weather.info/forecast/usa/san_francisco/january-2025/\\', \\'content\\': \"Weather in San Francisco in January 2025 (California) - Detailed Weather Forecast for a Month Weather World Weather in San Francisco Weather in San Francisco in January 2025 San Francisco Weather Forecast for January 2025, is based on previous years\\' statistical data. +55°+46° +54°+45° +57°+48° +55°+48° +55°+48° +55°+46° +57°+50° +59°+50° +57°+50° +59°+50° +55°+48° +57°+48° +57°+48° +57°+50° +55°+46° +55°+48° +57°+48° +57°+48° +57°+48° +55°+48° +57°+48° +55°+48° +55°+48° +55°+46° +57°+48° +57°+48° +59°+48° +59°+48° +59°+48° +59°+48° +61°+50° Extended weather forecast in San Francisco HourlyWeek10-Day14-Day30-DayYear Weather in Washington, D.C.+30° Sacramento+45° Pleasanton+50° Redwood City+54° San Leandro+54° San Mateo+54° San Rafael+50° San Ramon+48° South San Francisco+55° Vallejo+50° Palo Alto+52° Pacifica+59° Berkeley+48° Castro Valley+54° Concord+48° Daly City+55° Leona Heights+54° Centennial+54° world\\'s temperature today day day Temperature units\"}]', name='tavily_search_results_json', tool_call_id='call_gskv'),\n",
              "  AIMessage(content='The weather in San Francisco is sunny with a high of 57 degrees Fahrenheit and a low of 45 degrees Fahrenheit.', additional_kwargs={}, response_metadata={'token_usage': {'completion_tokens': 28, 'prompt_tokens': 3983, 'total_tokens': 4011, 'completion_time': 0.050909091, 'prompt_time': 0.165858212, 'queue_time': 0.024219502000000004, 'total_time': 0.216767303}, 'model_name': 'Gemma2-9b-It', 'system_fingerprint': 'fp_10c08bf97d', 'finish_reason': 'stop', 'logprobs': None}, id='run-445e0091-89eb-4dc6-99e6-eecf2e058a7d-0', usage_metadata={'input_tokens': 3983, 'output_tokens': 28, 'total_tokens': 4011})]}"
            ]
          },
          "metadata": {},
          "execution_count": 14
        }
      ],
      "source": [
        "result"
      ]
    },
    {
      "cell_type": "code",
      "source": [
        "print(result['messages'][-1].content)\n"
      ],
      "metadata": {
        "colab": {
          "base_uri": "https://localhost:8080/"
        },
        "id": "cx-LLXfzKY-d",
        "outputId": "c802fab6-f913-401d-b104-656a1977d062"
      },
      "id": "cx-LLXfzKY-d",
      "execution_count": 15,
      "outputs": [
        {
          "output_type": "stream",
          "name": "stdout",
          "text": [
            "The weather in San Francisco is sunny with a high of 57 degrees Fahrenheit and a low of 45 degrees Fahrenheit.\n"
          ]
        }
      ]
    },
    {
      "cell_type": "code",
      "execution_count": 16,
      "id": "6cb3ef4c-58b3-401b-b104-0d51e553d982",
      "metadata": {
        "height": 30,
        "colab": {
          "base_uri": "https://localhost:8080/",
          "height": 35
        },
        "id": "6cb3ef4c-58b3-401b-b104-0d51e553d982",
        "outputId": "cef3ec7f-df44-4813-a90e-345c8f001d61"
      },
      "outputs": [
        {
          "output_type": "execute_result",
          "data": {
            "text/plain": [
              "'The weather in San Francisco is sunny with a high of 57 degrees Fahrenheit and a low of 45 degrees Fahrenheit.'"
            ],
            "application/vnd.google.colaboratory.intrinsic+json": {
              "type": "string"
            }
          },
          "metadata": {},
          "execution_count": 16
        }
      ],
      "source": [
        "result['messages'][-1].content"
      ]
    },
    {
      "cell_type": "code",
      "execution_count": 17,
      "id": "dc3293b7-a50c-43c8-a022-8975e1e444b8",
      "metadata": {
        "height": 64,
        "colab": {
          "base_uri": "https://localhost:8080/"
        },
        "id": "dc3293b7-a50c-43c8-a022-8975e1e444b8",
        "outputId": "1a3c6634-41cf-4f94-bcdc-1cdde4772015"
      },
      "outputs": [
        {
          "output_type": "stream",
          "name": "stdout",
          "text": [
            "Calling: {'name': 'tavily_search_results_json', 'args': {'query': 'weather in San Francisco and Los Angeles'}, 'id': 'call_445w', 'type': 'tool_call'}\n",
            "Back to the model!\n",
            "Calling: {'name': 'tavily_search_results_json', 'args': {'query': 'weather in Los Angeles in January 2025'}, 'id': 'call_kxmg', 'type': 'tool_call'}\n",
            "Back to the model!\n"
          ]
        }
      ],
      "source": [
        "messages = [HumanMessage(content=\"What is the weather in SF and LA?\")]\n",
        "result = abot.graph.invoke({\"messages\": messages})"
      ]
    },
    {
      "cell_type": "code",
      "execution_count": 18,
      "id": "0722c3d4-4cbf-43bf-81b0-50f634c4ce61",
      "metadata": {
        "height": 30,
        "colab": {
          "base_uri": "https://localhost:8080/",
          "height": 53
        },
        "id": "0722c3d4-4cbf-43bf-81b0-50f634c4ce61",
        "outputId": "7132fecc-2394-4895-9f2b-dee9be5c1e0f"
      },
      "outputs": [
        {
          "output_type": "execute_result",
          "data": {
            "text/plain": [
              "'The weather in San Francisco in January 2025 is expected to be around 55 degrees Fahrenheit with a mix of sun and clouds. \\n\\n\\n The weather in Los Angeles in January 2025 is expected to be around 64 degrees Fahrenheit with sunny skies.  \\n'"
            ],
            "application/vnd.google.colaboratory.intrinsic+json": {
              "type": "string"
            }
          },
          "metadata": {},
          "execution_count": 18
        }
      ],
      "source": [
        "result['messages'][-1].content"
      ]
    },
    {
      "cell_type": "code",
      "source": [
        "result"
      ],
      "metadata": {
        "colab": {
          "base_uri": "https://localhost:8080/"
        },
        "id": "PmA8cI0dRIqK",
        "outputId": "039b71a9-641a-4691-88b9-44076ac8f631"
      },
      "id": "PmA8cI0dRIqK",
      "execution_count": 19,
      "outputs": [
        {
          "output_type": "execute_result",
          "data": {
            "text/plain": [
              "{'messages': [HumanMessage(content='What is the weather in SF and LA?', additional_kwargs={}, response_metadata={}),\n",
              "  AIMessage(content='', additional_kwargs={'tool_calls': [{'id': 'call_445w', 'function': {'arguments': '{\"query\":\"weather in San Francisco and Los Angeles\"}', 'name': 'tavily_search_results_json'}, 'type': 'function'}]}, response_metadata={'token_usage': {'completion_tokens': 93, 'prompt_tokens': 1059, 'total_tokens': 1152, 'completion_time': 0.169090909, 'prompt_time': 0.04319521, 'queue_time': 0.021683518, 'total_time': 0.212286119}, 'model_name': 'Gemma2-9b-It', 'system_fingerprint': 'fp_10c08bf97d', 'finish_reason': 'tool_calls', 'logprobs': None}, id='run-3c1c1b21-e29b-49b8-b18f-eb55eda5a68d-0', tool_calls=[{'name': 'tavily_search_results_json', 'args': {'query': 'weather in San Francisco and Los Angeles'}, 'id': 'call_445w', 'type': 'tool_call'}], usage_metadata={'input_tokens': 1059, 'output_tokens': 93, 'total_tokens': 1152}),\n",
              "  ToolMessage(content='[{\\'url\\': \\'https://www.weatherapi.com/\\', \\'content\\': \"{\\'location\\': {\\'name\\': \\'Colonia Los Angeles\\', \\'region\\': \\'Francisco Morazan\\', \\'country\\': \\'Honduras\\', \\'lat\\': 14.05, \\'lon\\': -87.2167, \\'tz_id\\': \\'America/Tegucigalpa\\', \\'localtime_epoch\\': 1737578345, \\'localtime\\': \\'2025-01-22 14:39\\'}, \\'current\\': {\\'last_updated_epoch\\': 1737577800, \\'last_updated\\': \\'2025-01-22 14:30\\', \\'temp_c\\': 22.2, \\'temp_f\\': 72.0, \\'is_day\\': 1, \\'condition\\': {\\'text\\': \\'Overcast\\', \\'icon\\': \\'//cdn.weatherapi.com/weather/64x64/day/122.png\\', \\'code\\': 1009}, \\'wind_mph\\': 12.8, \\'wind_kph\\': 20.5, \\'wind_degree\\': 19, \\'wind_dir\\': \\'NNE\\', \\'pressure_mb\\': 1020.0, \\'pressure_in\\': 30.12, \\'precip_mm\\': 0.12, \\'precip_in\\': 0.0, \\'humidity\\': 78, \\'cloud\\': 37, \\'feelslike_c\\': 24.6, \\'feelslike_f\\': 76.4, \\'windchill_c\\': 22.6, \\'windchill_f\\': 72.7, \\'heatindex_c\\': 24.8, \\'heatindex_f\\': 76.6, \\'dewpoint_c\\': 16.4, \\'dewpoint_f\\': 61.6, \\'vis_km\\': 8.0, \\'vis_miles\\': 4.0, \\'uv\\': 4.8, \\'gust_mph\\': 14.7, \\'gust_kph\\': 23.6}}\"}, {\\'url\\': \\'https://world-weather.info/forecast/usa/san_francisco/january-2025/\\', \\'content\\': \"Weather in San Francisco in January 2025 (California) - Detailed Weather Forecast for a Month Weather World Weather in San Francisco Weather in San Francisco in January 2025 San Francisco Weather Forecast for January 2025, is based on previous years\\' statistical data. +55°+46° +54°+45° +57°+48° +55°+48° +55°+48° +55°+46° +57°+50° +59°+50° +57°+50° +59°+50° +55°+48° +57°+48° +57°+48° +57°+50° +55°+46° +55°+48° +57°+48° +57°+48° +57°+48° +55°+48° +57°+48° +55°+48° +55°+48° +55°+46° +57°+48° +57°+48° +59°+48° +59°+48° +59°+48° +59°+48° +61°+50° Extended weather forecast in San Francisco HourlyWeek10-Day14-Day30-DayYear Weather in Washington, D.C.+30° Sacramento+45° Pleasanton+50° Redwood City+54° San Leandro+54° San Mateo+54° San Rafael+50° San Ramon+48° South San Francisco+55° Vallejo+50° Palo Alto+52° Pacifica+59° Berkeley+48° Castro Valley+54° Concord+48° Daly City+55° Leona Heights+54° Centennial+54° world\\'s temperature today day day Temperature units\"}, {\\'url\\': \\'https://www.yahoo.com/news/january-22-2025-san-francisco-135152203.html\\', \\'content\\': \\'January 22, 2025 San Francisco Bay Area weather forecast Search query Search the web News Finance Sports Manage your account Help Add or switch accounts Sign out Search the web Advertisement Advertisement Advertisement Close this content Top Stories Photos: Snow in the South Meta auto-follow claims KRON San Francisco January 22, 2025 San Francisco Bay Area weather forecast KRON San Francisco Wed, January 22, 2025 at 1:51 PM UTC KRON4 Meteorologist John Shrable has a check on the weather. https://www.kron4.com Solve the daily Crossword 32,252 people played the daily Crossword recently. Can you solve it faster than others?32,252 people played the daily Crossword recently. Can you solve it faster than others? Crossword Play on Yahoo Yahoo! Follow us on © 2025 Yahoo.\\'}]', name='tavily_search_results_json', tool_call_id='call_445w'),\n",
              "  AIMessage(content='', additional_kwargs={'tool_calls': [{'id': 'call_kxmg', 'function': {'arguments': '{\"query\":\"weather in Los Angeles in January 2025\"}', 'name': 'tavily_search_results_json'}, 'type': 'function'}]}, response_metadata={'token_usage': {'completion_tokens': 64, 'prompt_tokens': 2340, 'total_tokens': 2404, 'completion_time': 0.116363636, 'prompt_time': 0.075362657, 'queue_time': 0.025110950000000007, 'total_time': 0.191726293}, 'model_name': 'Gemma2-9b-It', 'system_fingerprint': 'fp_10c08bf97d', 'finish_reason': 'tool_calls', 'logprobs': None}, id='run-52ed24cd-b75b-4f83-9a7d-9649d5191c3a-0', tool_calls=[{'name': 'tavily_search_results_json', 'args': {'query': 'weather in Los Angeles in January 2025'}, 'id': 'call_kxmg', 'type': 'tool_call'}], usage_metadata={'input_tokens': 2340, 'output_tokens': 64, 'total_tokens': 2404}),\n",
              "  ToolMessage(content='[{\\'url\\': \\'https://www.weatherapi.com/\\', \\'content\\': \"{\\'location\\': {\\'name\\': \\'Los Angeles\\', \\'region\\': \\'California\\', \\'country\\': \\'United States of America\\', \\'lat\\': 34.0522, \\'lon\\': -118.2428, \\'tz_id\\': \\'America/Los_Angeles\\', \\'localtime_epoch\\': 1737578348, \\'localtime\\': \\'2025-01-22 12:39\\'}, \\'current\\': {\\'last_updated_epoch\\': 1737577800, \\'last_updated\\': \\'2025-01-22 12:30\\', \\'temp_c\\': 23.9, \\'temp_f\\': 75.0, \\'is_day\\': 1, \\'condition\\': {\\'text\\': \\'Sunny\\', \\'icon\\': \\'//cdn.weatherapi.com/weather/64x64/day/113.png\\', \\'code\\': 1000}, \\'wind_mph\\': 2.9, \\'wind_kph\\': 4.7, \\'wind_degree\\': 344, \\'wind_dir\\': \\'NNW\\', \\'pressure_mb\\': 1023.0, \\'pressure_in\\': 30.21, \\'precip_mm\\': 0.0, \\'precip_in\\': 0.0, \\'humidity\\': 15, \\'cloud\\': 0, \\'feelslike_c\\': 23.1, \\'feelslike_f\\': 73.6, \\'windchill_c\\': 20.6, \\'windchill_f\\': 69.1, \\'heatindex_c\\': 20.6, \\'heatindex_f\\': 69.0, \\'dewpoint_c\\': -16.5, \\'dewpoint_f\\': 2.3, \\'vis_km\\': 16.0, \\'vis_miles\\': 9.0, \\'uv\\': 3.1, \\'gust_mph\\': 3.7, \\'gust_kph\\': 5.9}}\"}, {\\'url\\': \\'https://www.easeweather.com/north-america/united-states/california/los-angeles-county/los-angeles/january\\', \\'content\\': \"Weather in Los Angeles in January 2025 - Detailed Forecast Weather in Los Angeles for January 2025 Your guide to Los Angeles weather in January - trends and predictions In general, the average temperature in Los Angeles at the beginning of January is 17.1\\\\xa0°F. Expect significant rainfall in Los Angeles during January, with an average of 16 rainy days. New Year\\'s Day 🎉 - See the weather forecast for Monday, January 1 in Los Angeles. Los Angeles in January average weather Temperatures trend during January in Los Angeles Our weather forecast for Los Angeles in January is based on the analysis of historical data rather than real-time forecast models. Los Angeles in January - FAQ Get accurate weather forecasts for Los Angeles, located at latitude 34.052 and longitude -118.244.\"}, {\\'url\\': \\'https://world-weather.info/forecast/usa/los_angeles/january-2025/\\', \\'content\\': \"Weather in Los Angeles in January 2025 (California) - Detailed Weather Forecast for a Month Weather Weather in Los Angeles Weather in Los Angeles in January 2025 Los Angeles Weather Forecast for January 2025, is based on previous years\\' statistical data. +61°+50° +63°+52° +63°+52° +63°+52° +64°+55° +64°+54° +64°+55° +64°+55° +64°+55° +64°+54° +64°+54° +63°+52° +64°+54° +66°+54° +66°+54° +64°+55° +66°+55° +66°+55° +64°+54° +63°+54° +63°+54° +64°+54° +64°+54° +63°+52° +64°+54° +64°+54° +68°+55° +68°+54° +66°+54° +66°+54° +66°+55° Extended weather forecast in Los Angeles HourlyWeek10 days14 days30 daysYear Weather in large and nearby cities Weather in Washington, D.C.+64° Sacramento+66° Monterey Park+61° North Glendale+63° Norwalk+61° Pasadena+63° Rosemead+61° Santa Monica+61° Manhattan Beach+63° Inglewood+61° Bellflower+61° Beverly Hills+59° Burbank+63° Compton+61° Rancho Dominguez+61° world\\'s temperature today day day Temperature units\"}]', name='tavily_search_results_json', tool_call_id='call_kxmg'),\n",
              "  AIMessage(content='The weather in San Francisco in January 2025 is expected to be around 55 degrees Fahrenheit with a mix of sun and clouds. \\n\\n\\n The weather in Los Angeles in January 2025 is expected to be around 64 degrees Fahrenheit with sunny skies.  \\n', additional_kwargs={}, response_metadata={'token_usage': {'completion_tokens': 62, 'prompt_tokens': 3587, 'total_tokens': 3649, 'completion_time': 0.112727273, 'prompt_time': 0.235466808, 'queue_time': 0.02620109299999998, 'total_time': 0.348194081}, 'model_name': 'Gemma2-9b-It', 'system_fingerprint': 'fp_10c08bf97d', 'finish_reason': 'stop', 'logprobs': None}, id='run-7c3002bd-de66-4b98-b6fc-30ef403493e8-0', usage_metadata={'input_tokens': 3587, 'output_tokens': 62, 'total_tokens': 3649})]}"
            ]
          },
          "metadata": {},
          "execution_count": 19
        }
      ]
    },
    {
      "cell_type": "code",
      "source": [
        "import re\n",
        "\n",
        "content = result['messages'][-1].content\n",
        "sanitized_content = re.sub(r'`+', '', content).strip()\n",
        "print(\"Sanitized Content:\", sanitized_content)"
      ],
      "metadata": {
        "colab": {
          "base_uri": "https://localhost:8080/"
        },
        "collapsed": true,
        "id": "6KA_K0BeKx9B",
        "outputId": "8afd258d-2df4-4564-9bc3-b99ba9d4198d"
      },
      "id": "6KA_K0BeKx9B",
      "execution_count": 20,
      "outputs": [
        {
          "output_type": "stream",
          "name": "stdout",
          "text": [
            "Sanitized Content: The weather in San Francisco in January 2025 is expected to be around 55 degrees Fahrenheit with a mix of sun and clouds. \n",
            "\n",
            "\n",
            " The weather in Los Angeles in January 2025 is expected to be around 64 degrees Fahrenheit with sunny skies.\n"
          ]
        }
      ]
    },
    {
      "cell_type": "markdown",
      "source": [
        "----------------------------------------\n",
        "- Note, the query was modified to produce more consistent results.\n",
        "- Results may vary per run and over time as search information and models change."
      ],
      "metadata": {
        "id": "yFTrHHh5JY8K"
      },
      "id": "yFTrHHh5JY8K"
    },
    {
      "cell_type": "code",
      "execution_count": 21,
      "id": "6b2f82fe-3ec4-4917-be51-9fb10d1317fa",
      "metadata": {
        "height": 200,
        "colab": {
          "base_uri": "https://localhost:8080/"
        },
        "id": "6b2f82fe-3ec4-4917-be51-9fb10d1317fa",
        "outputId": "74905296-7158-4b21-a8a9-56abef2d9aef"
      },
      "outputs": [
        {
          "output_type": "stream",
          "name": "stdout",
          "text": [
            "Calling: {'name': 'tavily_search_results_json', 'args': {'query': 'Who won the super bowl in 2024?'}, 'id': 'call_pn09', 'type': 'tool_call'}\n",
            "Back to the model!\n",
            "Calling: {'name': 'tavily_search_results_json', 'args': {'query': 'What state is Kansas City, Missouri located in?'}, 'id': 'call_7vy7', 'type': 'tool_call'}\n",
            "Back to the model!\n",
            "Calling: {'name': 'tavily_search_results_json', 'args': {'query': 'What is the GDP of Missouri?'}, 'id': 'call_rkjx', 'type': 'tool_call'}\n",
            "Back to the model!\n"
          ]
        }
      ],
      "source": [
        "query = \"Who won the super bowl in 2024? In what state is the winning team headquarters located? \\\n",
        "What is the GDP of that state? Answer each question.\"\n",
        "messages = [HumanMessage(content=query)]\n",
        "\n",
        "abot = Agent(llm, [tool], system=prompt)\n",
        "result = abot.graph.invoke({\"messages\": messages})"
      ]
    },
    {
      "cell_type": "code",
      "execution_count": 22,
      "id": "ee0fe1c7-77e2-499c-a2f9-1f739bb6ddf0",
      "metadata": {
        "height": 30,
        "colab": {
          "base_uri": "https://localhost:8080/"
        },
        "id": "ee0fe1c7-77e2-499c-a2f9-1f739bb6ddf0",
        "outputId": "9f3ff799-7960-4776-8baa-386dfc96b4c6"
      },
      "outputs": [
        {
          "output_type": "stream",
          "name": "stdout",
          "text": [
            "The Kansas City Chiefs won Super Bowl 2024.  The team is headquartered in Missouri. The GDP of Missouri is $344.12 billion. \n",
            "\n"
          ]
        }
      ],
      "source": [
        "print(result['messages'][-1].content)"
      ]
    }
  ],
  "metadata": {
    "kernelspec": {
      "display_name": "Python 3",
      "name": "python3"
    },
    "language_info": {
      "codemirror_mode": {
        "name": "ipython",
        "version": 3
      },
      "file_extension": ".py",
      "mimetype": "text/x-python",
      "name": "python",
      "nbconvert_exporter": "python",
      "pygments_lexer": "ipython3",
      "version": "3.11.9"
    },
    "colab": {
      "provenance": [],
      "gpuType": "T4"
    },
    "accelerator": "GPU"
  },
  "nbformat": 4,
  "nbformat_minor": 5
}